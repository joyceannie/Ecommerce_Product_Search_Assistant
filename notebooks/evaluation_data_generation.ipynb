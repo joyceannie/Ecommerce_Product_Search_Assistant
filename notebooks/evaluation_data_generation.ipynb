{
 "cells": [
  {
   "cell_type": "code",
   "execution_count": 269,
   "id": "0b5a21aa-a349-4dc3-a25f-d3c2cd060d75",
   "metadata": {},
   "outputs": [],
   "source": [
    "import pandas as pd\n",
    "import json\n",
    "import time\n",
    "import random\n"
   ]
  },
  {
   "cell_type": "code",
   "execution_count": 270,
   "id": "236cc9c3-0972-452c-bf86-4e9bff4c3db3",
   "metadata": {},
   "outputs": [],
   "source": [
    "from dotenv import load_dotenv\n",
    "import os\n",
    "\n",
    "# Load environment variables from .env file\n",
    "load_dotenv()\n",
    "\n",
    "# Access environment variables\n",
    "openai_key = os.getenv('OPENAI_API_KEY')\n"
   ]
  },
  {
   "cell_type": "code",
   "execution_count": 271,
   "id": "014d4b8d-6492-432f-abf8-cc85c0925623",
   "metadata": {},
   "outputs": [],
   "source": [
    "from openai import OpenAI\n",
    "\n",
    "client = OpenAI()"
   ]
  },
  {
   "cell_type": "code",
   "execution_count": 272,
   "id": "8872ea98-ff1f-4847-b261-da0c860fbff4",
   "metadata": {},
   "outputs": [],
   "source": [
    "    index = 0\n",
    "    # Open the file containing the JSON data to index.\n",
    "    with open('../data/flipkart_fashion_products_dataset.json', \"r\") as json_file:\n",
    "        json_data = json.load(json_file)\n",
    "        documents = []\n",
    "        for doc in json_data:\n",
    "            new_doc ={}\n",
    "            new_doc['id'] = index\n",
    "            new_doc[\"title\"] = doc['title']\n",
    "            new_doc[\"description\"] = doc['description']\n",
    "            new_doc[\"category\"] = doc['category']\n",
    "            new_doc[\"sub_category\"] = doc['sub_category']\n",
    "            new_doc[\"brand\"] = doc['brand']\n",
    "            new_doc[\"product_details\"] = doc['product_details']\n",
    "            # new_doc[\"product_details\"] = {}\n",
    "            # new_doc['product_details'] = doc['product_details']    \n",
    "            # new_doc['selling_price'] = doc['selling_price']    \n",
    "            # new_doc['actual_price'] = doc['actual_price'] \n",
    "            new_doc['average_rating'] = doc['average_rating'] \n",
    "            # new_doc['discount'] = doc['discount'] \n",
    "            new_doc['url'] = doc['url'] \n",
    "            new_doc['out_of_stock'] = doc['out_of_stock']\n",
    "            title_and_description = doc['title'] + doc['description']\n",
    "\n",
    "            documents.append(new_doc)\n",
    "            index = index + 1\n",
    "\n",
    "            # if index == 20:\n",
    "            #     break"
   ]
  },
  {
   "cell_type": "code",
   "execution_count": 146,
   "id": "84d011d5-2501-4f21-9dc3-603f47519425",
   "metadata": {},
   "outputs": [],
   "source": [
    "product_list = []\n",
    "documents_filename = '../data/flipkart_fashion_products_dataset.json'\n",
    "with open(documents_filename, \"r\") as json_file:\n",
    "    json_data = json.load(json_file)\n",
    "    for product in json_data:\n",
    "        product_list.append(product)\n",
    "\n",
    "unique_products = {}\n",
    "for product in product_list:\n",
    "    product_id = product['pid']\n",
    "    if product_id not in unique_products:\n",
    "        unique_products[product_id] = product"
   ]
  },
  {
   "cell_type": "code",
   "execution_count": 231,
   "id": "235ff8f7-e758-469f-8424-7fc4de631d8b",
   "metadata": {},
   "outputs": [],
   "source": [
    "def sample_documents(unique_products, sample_size):  \n",
    "    documents = []\n",
    "    index = 0\n",
    "    for key, doc in unique_products.items():\n",
    "        new_doc ={}\n",
    "        new_doc[\"title\"] = doc['title']\n",
    "        new_doc[\"description\"] = doc['description']\n",
    "        new_doc[\"category\"] = doc['category']\n",
    "        new_doc[\"sub_category\"] = doc['sub_category']\n",
    "        new_doc[\"brand\"] = doc['brand']\n",
    "        new_doc['doc_id'] = index\n",
    "        new_doc['product_details'] = doc['product_details'][0]    \n",
    "        new_doc['average_rating'] = doc['average_rating'] \n",
    "        new_doc['out_of_stock'] = doc['out_of_stock']\n",
    "        title_and_description = doc['title'] + doc['description']\n",
    "        index += 1\n",
    "        \n",
    "        documents.append(new_doc)\n",
    "\n",
    "    # Sample  items from the list\n",
    "    sampled_products = random.sample(documents, sample_size)\n",
    "    return sampled_products\n",
    "\n",
    "\n",
    "sample_products = sample_documents(unique_products, 3)\n",
    "    "
   ]
  },
  {
   "cell_type": "code",
   "execution_count": 232,
   "id": "67f16acb-0fcd-497f-a356-2e8b73524eb6",
   "metadata": {},
   "outputs": [
    {
     "data": {
      "text/plain": [
       "[{'title': 'Men Regular Fit Solid Casual Shirt',\n",
       "  'description': '',\n",
       "  'category': 'Clothing and Accessories',\n",
       "  'sub_category': 'Topwear',\n",
       "  'brand': 'Mett',\n",
       "  'doc_id': 20668,\n",
       "  'product_details': {'Pack of': '1'},\n",
       "  'average_rating': '',\n",
       "  'out_of_stock': True},\n",
       " {'title': 'Pure Silk Solid Gold Men Dupatta',\n",
       "  'description': '',\n",
       "  'category': 'Clothing and Accessories',\n",
       "  'sub_category': 'Clothing Accessories',\n",
       "  'brand': 'Paridhanlok Onli',\n",
       "  'doc_id': 19588,\n",
       "  'product_details': {'Style Code': 'ST010'},\n",
       "  'average_rating': '4.1',\n",
       "  'out_of_stock': False},\n",
       " {'title': 'Men Ankle Length\\xa0\\xa0(Pack of 3)',\n",
       "  'description': 'Welwear multicolor ankle cotton all time  socks',\n",
       "  'category': 'Clothing and Accessories',\n",
       "  'sub_category': 'Clothing Accessories',\n",
       "  'brand': 'Welwe',\n",
       "  'doc_id': 16502,\n",
       "  'product_details': {'Color': 'Multicolor'},\n",
       "  'average_rating': '3',\n",
       "  'out_of_stock': False}]"
      ]
     },
     "execution_count": 232,
     "metadata": {},
     "output_type": "execute_result"
    }
   ],
   "source": [
    "sample_products"
   ]
  },
  {
   "cell_type": "code",
   "execution_count": 233,
   "id": "2be5e17b-d910-42f8-9017-a57577b87599",
   "metadata": {},
   "outputs": [],
   "source": [
    "keys = ['title', 'description', 'category', 'sub_category', 'brand', 'average_rating', 'url', 'out_of_stock']\n",
    "for product in sample_products:\n",
    "    for key in keys:\n",
    "        if key not in product:\n",
    "            product[key] = ''"
   ]
  },
  {
   "cell_type": "code",
   "execution_count": 234,
   "id": "94c74080-9c9f-4755-8e01-40f069379e5e",
   "metadata": {},
   "outputs": [],
   "source": [
    "prompt_template = \"\"\"\n",
    "You emulate the user of an ecommerce product search assistant.\n",
    "Formulate 5 questions this user might ask based on the provided product.\n",
    "Make the questions specific to the details of this product. Each product can be uniquely identified by the combination of title and brand. \n",
    "The question should clearly mention the product it is talking about.\n",
    "The record should contain the answer to the questions, and the questions should\n",
    "be complete and not too short. Use as fewer words as possible from the record. \n",
    "\n",
    "The record:\n",
    "\n",
    "title: {title}\n",
    "description: {description}\n",
    "category: {category}\n",
    "sub_category: {sub_category}\n",
    "brand: {brand}\n",
    "average rating: {average_rating}\n",
    "url: {url}\n",
    "out_of_stock: {out_of_stock}\n",
    "\n",
    "Provide the output in parsable JSON without using code blocks:\n",
    "\n",
    "{{\"questions\": [\"question1\", \"question2\"]}}\n",
    "\"\"\".strip()"
   ]
  },
  {
   "cell_type": "code",
   "execution_count": 235,
   "id": "b2cf7eb7-3789-46fc-96aa-2742ef02fa60",
   "metadata": {},
   "outputs": [],
   "source": [
    "prompt = prompt_template.format(**sample_products[0])\n"
   ]
  },
  {
   "cell_type": "code",
   "execution_count": 236,
   "id": "9f53ecda-d4b4-458e-b0c8-655e3d260809",
   "metadata": {},
   "outputs": [
    {
     "name": "stdout",
     "output_type": "stream",
     "text": [
      "You emulate the user of an ecommerce product search assistant.\n",
      "Formulate 5 questions this user might ask based on the provided product.\n",
      "Make the questions specific to the details of this product. Each product can be uniquely identified by the combination of title and brand. \n",
      "The question should clearly mention the product it is talking about.\n",
      "The record should contain the answer to the questions, and the questions should\n",
      "be complete and not too short. Use as fewer words as possible from the record. \n",
      "\n",
      "The record:\n",
      "\n",
      "title: Men Regular Fit Solid Casual Shirt\n",
      "description: \n",
      "category: Clothing and Accessories\n",
      "sub_category: Topwear\n",
      "brand: Mett\n",
      "average rating: \n",
      "url: \n",
      "out_of_stock: True\n",
      "\n",
      "Provide the output in parsable JSON without using code blocks:\n",
      "\n",
      "{\"questions\": [\"question1\", \"question2\"]}\n"
     ]
    }
   ],
   "source": [
    "print(prompt)\n"
   ]
  },
  {
   "cell_type": "code",
   "execution_count": 237,
   "id": "ff02b6cf-7a23-42a4-a0a0-d3811eeda298",
   "metadata": {},
   "outputs": [],
   "source": [
    "def llm(prompt):\n",
    "    response = client.chat.completions.create(\n",
    "        model='gpt-4o-mini',\n",
    "        messages=[{\"role\": \"user\", \"content\": prompt}]\n",
    "    )\n",
    "    \n",
    "    return response.choices[0].message.content"
   ]
  },
  {
   "cell_type": "code",
   "execution_count": 238,
   "id": "909c7a2a-c709-4fab-ad62-bd6cf3502c48",
   "metadata": {},
   "outputs": [],
   "source": [
    "questions = llm(prompt)\n"
   ]
  },
  {
   "cell_type": "code",
   "execution_count": 239,
   "id": "ce452209-f5b7-47b2-9268-fb00657dd79d",
   "metadata": {},
   "outputs": [
    {
     "data": {
      "text/plain": [
       "{'questions': ['Is the Men Regular Fit Solid Casual Shirt by Mett currently available for purchase?',\n",
       "  'What is the fit style of the Men Regular Fit Solid Casual Shirt from Mett?',\n",
       "  'In which category does the Men Regular Fit Solid Casual Shirt by Mett fall?',\n",
       "  'Can you tell me more about the color options for the Men Regular Fit Solid Casual Shirt by Mett?',\n",
       "  'What type of occasions is the Men Regular Fit Solid Casual Shirt by Mett suitable for?']}"
      ]
     },
     "execution_count": 239,
     "metadata": {},
     "output_type": "execute_result"
    }
   ],
   "source": [
    "json.loads(questions)\n"
   ]
  },
  {
   "cell_type": "code",
   "execution_count": 257,
   "id": "5df9c68d-02a5-4ecd-8b47-97e8bed36e84",
   "metadata": {},
   "outputs": [],
   "source": [
    "def generate_questions(doc):\n",
    "    print('Generating question')\n",
    "    prompt = prompt_template.format(**doc)\n",
    "\n",
    "    response = client.chat.completions.create(\n",
    "        model='gpt-4o-mini',\n",
    "        messages=[{\"role\": \"user\", \"content\": prompt}]\n",
    "    )\n",
    "\n",
    "    json_response = response.choices[0].message.content\n",
    "    return json_response"
   ]
  },
  {
   "cell_type": "code",
   "execution_count": 241,
   "id": "a014b476-5b15-4bb4-b91a-b5a088f836bd",
   "metadata": {},
   "outputs": [],
   "source": [
    "from tqdm.auto import tqdm\n"
   ]
  },
  {
   "cell_type": "code",
   "execution_count": 267,
   "id": "173c0f3a-381f-4f92-86b1-cac87e9f5574",
   "metadata": {},
   "outputs": [
    {
     "data": {
      "text/plain": [
       "[{'title': 'Men Regular Fit Solid Casual Shirt',\n",
       "  'description': '',\n",
       "  'category': 'Clothing and Accessories',\n",
       "  'sub_category': 'Topwear',\n",
       "  'brand': 'Mett',\n",
       "  'doc_id': 20668,\n",
       "  'product_details': {'Pack of': '1'},\n",
       "  'average_rating': '',\n",
       "  'out_of_stock': True,\n",
       "  'url': ''},\n",
       " {'title': 'Pure Silk Solid Gold Men Dupatta',\n",
       "  'description': '',\n",
       "  'category': 'Clothing and Accessories',\n",
       "  'sub_category': 'Clothing Accessories',\n",
       "  'brand': 'Paridhanlok Onli',\n",
       "  'doc_id': 19588,\n",
       "  'product_details': {'Style Code': 'ST010'},\n",
       "  'average_rating': '4.1',\n",
       "  'out_of_stock': False,\n",
       "  'url': ''},\n",
       " {'title': 'Men Ankle Length\\xa0\\xa0(Pack of 3)',\n",
       "  'description': 'Welwear multicolor ankle cotton all time  socks',\n",
       "  'category': 'Clothing and Accessories',\n",
       "  'sub_category': 'Clothing Accessories',\n",
       "  'brand': 'Welwe',\n",
       "  'doc_id': 16502,\n",
       "  'product_details': {'Color': 'Multicolor'},\n",
       "  'average_rating': '3',\n",
       "  'out_of_stock': False,\n",
       "  'url': ''}]"
      ]
     },
     "execution_count": 267,
     "metadata": {},
     "output_type": "execute_result"
    }
   ],
   "source": [
    "\n",
    "sample_products"
   ]
  },
  {
   "cell_type": "code",
   "execution_count": 268,
   "id": "3b0e8da2-f3fd-419e-bf15-8ed20c11b9d1",
   "metadata": {},
   "outputs": [
    {
     "data": {
      "application/vnd.jupyter.widget-view+json": {
       "model_id": "887424caf5234b26be470f7834844eda",
       "version_major": 2,
       "version_minor": 0
      },
      "text/plain": [
       "  0%|          | 0/3 [00:00<?, ?it/s]"
      ]
     },
     "metadata": {},
     "output_type": "display_data"
    },
    {
     "name": "stdout",
     "output_type": "stream",
     "text": [
      "processing doc_id = 20668\n"
     ]
    },
    {
     "data": {
      "application/vnd.jupyter.widget-view+json": {
       "model_id": "57af99852e0745cd800ccffdf3f99f5f",
       "version_major": 2,
       "version_minor": 0
      },
      "text/plain": [
       "  0%|          | 0/10 [00:00<?, ?it/s]"
      ]
     },
     "metadata": {},
     "output_type": "display_data"
    },
    {
     "ename": "TypeError",
     "evalue": "string indices must be integers",
     "output_type": "error",
     "traceback": [
      "\u001b[0;31m---------------------------------------------------------------------------\u001b[0m",
      "\u001b[0;31mTypeError\u001b[0m                                 Traceback (most recent call last)",
      "Cell \u001b[0;32mIn[268], line 22\u001b[0m\n\u001b[1;32m     14\u001b[0m         \u001b[38;5;66;03m# time.sleep(100)\u001b[39;00m\n\u001b[1;32m     15\u001b[0m         \u001b[38;5;66;03m# results[doc_id] = {}\u001b[39;00m\n\u001b[1;32m     16\u001b[0m         \u001b[38;5;66;03m# results[doc_id]['questions'] = questions['questions']\u001b[39;00m\n\u001b[1;32m     17\u001b[0m         \u001b[38;5;66;03m# results[doc_id]['category'] = doc['category']\u001b[39;00m\n\u001b[1;32m     18\u001b[0m         \u001b[38;5;66;03m# results[doc_id]['brand'] = doc['brand']\u001b[39;00m\n\u001b[1;32m     19\u001b[0m         \u001b[38;5;66;03m# print(f'Finished processing doc id = {doc_id}')\u001b[39;00m\n\u001b[1;32m     20\u001b[0m     \u001b[38;5;28;01mreturn\u001b[39;00m results\n\u001b[0;32m---> 22\u001b[0m results \u001b[38;5;241m=\u001b[39m \u001b[43mgenerate_questions\u001b[49m\u001b[43m(\u001b[49m\u001b[43msample_products\u001b[49m\u001b[43m)\u001b[49m\n",
      "Cell \u001b[0;32mIn[268], line 9\u001b[0m, in \u001b[0;36mgenerate_questions\u001b[0;34m(products)\u001b[0m\n\u001b[1;32m      5\u001b[0m \u001b[38;5;28mprint\u001b[39m(\u001b[38;5;124mf\u001b[39m\u001b[38;5;124m'\u001b[39m\u001b[38;5;124mprocessing doc_id = \u001b[39m\u001b[38;5;132;01m{\u001b[39;00mdoc_id\u001b[38;5;132;01m}\u001b[39;00m\u001b[38;5;124m'\u001b[39m)\n\u001b[1;32m      6\u001b[0m \u001b[38;5;66;03m# if doc_id in results:\u001b[39;00m\n\u001b[1;32m      7\u001b[0m \u001b[38;5;66;03m#     continue\u001b[39;00m\n\u001b[0;32m----> 9\u001b[0m questions_raw \u001b[38;5;241m=\u001b[39m \u001b[43mgenerate_questions\u001b[49m\u001b[43m(\u001b[49m\u001b[43mdoc\u001b[49m\u001b[43m)\u001b[49m\n\u001b[1;32m     10\u001b[0m \u001b[38;5;66;03m# print(f'Generated questions')\u001b[39;00m\n\u001b[1;32m     11\u001b[0m questions \u001b[38;5;241m=\u001b[39m json\u001b[38;5;241m.\u001b[39mloads(questions_raw)\n",
      "Cell \u001b[0;32mIn[268], line 4\u001b[0m, in \u001b[0;36mgenerate_questions\u001b[0;34m(products)\u001b[0m\n\u001b[1;32m      2\u001b[0m results \u001b[38;5;241m=\u001b[39m {}\n\u001b[1;32m      3\u001b[0m \u001b[38;5;28;01mfor\u001b[39;00m doc \u001b[38;5;129;01min\u001b[39;00m tqdm(products): \n\u001b[0;32m----> 4\u001b[0m     doc_id \u001b[38;5;241m=\u001b[39m \u001b[43mdoc\u001b[49m\u001b[43m[\u001b[49m\u001b[38;5;124;43m'\u001b[39;49m\u001b[38;5;124;43mdoc_id\u001b[39;49m\u001b[38;5;124;43m'\u001b[39;49m\u001b[43m]\u001b[49m\n\u001b[1;32m      5\u001b[0m     \u001b[38;5;28mprint\u001b[39m(\u001b[38;5;124mf\u001b[39m\u001b[38;5;124m'\u001b[39m\u001b[38;5;124mprocessing doc_id = \u001b[39m\u001b[38;5;132;01m{\u001b[39;00mdoc_id\u001b[38;5;132;01m}\u001b[39;00m\u001b[38;5;124m'\u001b[39m)\n\u001b[1;32m      6\u001b[0m     \u001b[38;5;66;03m# if doc_id in results:\u001b[39;00m\n\u001b[1;32m      7\u001b[0m     \u001b[38;5;66;03m#     continue\u001b[39;00m\n",
      "\u001b[0;31mTypeError\u001b[0m: string indices must be integers"
     ]
    }
   ],
   "source": [
    "def generate_questions(products):\n",
    "    results = {}\n",
    "    for doc in tqdm(products): \n",
    "        doc_id = doc['doc_id']\n",
    "        print(f'processing doc_id = {doc_id}')\n",
    "        # if doc_id in results:\n",
    "        #     continue\n",
    "    \n",
    "        questions_raw = generate_questions(doc)\n",
    "        # print(f'Generated questions')\n",
    "        questions = json.loads(questions_raw)\n",
    "        print(questions)\n",
    "        print('******************')\n",
    "        # time.sleep(100)\n",
    "        # results[doc_id] = {}\n",
    "        # results[doc_id]['questions'] = questions['questions']\n",
    "        # results[doc_id]['category'] = doc['category']\n",
    "        # results[doc_id]['brand'] = doc['brand']\n",
    "        # print(f'Finished processing doc id = {doc_id}')\n",
    "    return results\n",
    "\n",
    "results = generate_questions(sample_products)\n",
    "        "
   ]
  },
  {
   "cell_type": "code",
   "execution_count": 260,
   "id": "4b7ae625-6359-4f15-a60e-f141755490bc",
   "metadata": {},
   "outputs": [
    {
     "data": {
      "text/plain": [
       "{}"
      ]
     },
     "execution_count": 260,
     "metadata": {},
     "output_type": "execute_result"
    }
   ],
   "source": [
    "results"
   ]
  },
  {
   "cell_type": "code",
   "execution_count": 132,
   "id": "3f9fbcf0-fec0-43f9-a789-61b53b4c8604",
   "metadata": {},
   "outputs": [],
   "source": [
    "final_results = []\n",
    "\n",
    "for doc in results.items():\n",
    "    doc_id = doc[0]\n",
    "    question = doc[1]['questions']\n",
    "    category = doc[1]['category']\n",
    "    brand = doc[1]['brand']\n",
    "    final_results.append([doc_id, question, category, brand])"
   ]
  },
  {
   "cell_type": "code",
   "execution_count": 135,
   "id": "d1bebbb7-c338-4227-865a-3ef8a7059774",
   "metadata": {},
   "outputs": [
    {
     "data": {
      "text/plain": [
       "[19,\n",
       " ['What materials are used in the York Solid Men Multicolor Track Pants for comfort and skin-friendliness?',\n",
       "  'Is the York Solid Men Multicolor Track Pants available for purchase right now?'],\n",
       " 'Clothing and Accessories',\n",
       " 'York']"
      ]
     },
     "execution_count": 135,
     "metadata": {},
     "output_type": "execute_result"
    }
   ],
   "source": [
    "final_results[19]\n"
   ]
  },
  {
   "cell_type": "code",
   "execution_count": 136,
   "id": "69262e8a-7b70-4142-8e49-11fc7377bd22",
   "metadata": {},
   "outputs": [],
   "source": [
    "# Create a DataFrame\n",
    "df = pd.DataFrame(final_results, columns=['doc_id', 'questions', 'category', 'brand'])\n",
    "\n",
    "# Use explode() to transform the 'questions' list into separate rows\n",
    "df_exploded = df.explode('questions').reset_index(drop=True)\n",
    "\n"
   ]
  },
  {
   "cell_type": "code",
   "execution_count": 137,
   "id": "dffd7954-c30b-4efc-839a-683ca43823a6",
   "metadata": {},
   "outputs": [
    {
     "data": {
      "text/plain": [
       "(40, 4)"
      ]
     },
     "execution_count": 137,
     "metadata": {},
     "output_type": "execute_result"
    }
   ],
   "source": [
    "df_exploded.shape\n"
   ]
  },
  {
   "cell_type": "code",
   "execution_count": 138,
   "id": "9f04b870-16fe-45d5-97a3-6ef1a8f00bac",
   "metadata": {},
   "outputs": [
    {
     "data": {
      "text/html": [
       "<div>\n",
       "<style scoped>\n",
       "    .dataframe tbody tr th:only-of-type {\n",
       "        vertical-align: middle;\n",
       "    }\n",
       "\n",
       "    .dataframe tbody tr th {\n",
       "        vertical-align: top;\n",
       "    }\n",
       "\n",
       "    .dataframe thead th {\n",
       "        text-align: right;\n",
       "    }\n",
       "</style>\n",
       "<table border=\"1\" class=\"dataframe\">\n",
       "  <thead>\n",
       "    <tr style=\"text-align: right;\">\n",
       "      <th></th>\n",
       "      <th>doc_id</th>\n",
       "      <th>questions</th>\n",
       "      <th>category</th>\n",
       "      <th>brand</th>\n",
       "    </tr>\n",
       "  </thead>\n",
       "  <tbody>\n",
       "    <tr>\n",
       "      <th>0</th>\n",
       "      <td>0</td>\n",
       "      <td>What are the material and comfort features of ...</td>\n",
       "      <td>Clothing and Accessories</td>\n",
       "      <td>York</td>\n",
       "    </tr>\n",
       "    <tr>\n",
       "      <th>1</th>\n",
       "      <td>0</td>\n",
       "      <td>Is the Solid Men Multicolor Track Pants by Yor...</td>\n",
       "      <td>Clothing and Accessories</td>\n",
       "      <td>York</td>\n",
       "    </tr>\n",
       "    <tr>\n",
       "      <th>2</th>\n",
       "      <td>1</td>\n",
       "      <td>What materials are used to make the Solid Men ...</td>\n",
       "      <td>Clothing and Accessories</td>\n",
       "      <td>York</td>\n",
       "    </tr>\n",
       "    <tr>\n",
       "      <th>3</th>\n",
       "      <td>1</td>\n",
       "      <td>Is the waistband of the Yorker track pants des...</td>\n",
       "      <td>Clothing and Accessories</td>\n",
       "      <td>York</td>\n",
       "    </tr>\n",
       "    <tr>\n",
       "      <th>4</th>\n",
       "      <td>2</td>\n",
       "      <td>What material is used in the York Solid Men Mu...</td>\n",
       "      <td>Clothing and Accessories</td>\n",
       "      <td>York</td>\n",
       "    </tr>\n",
       "    <tr>\n",
       "      <th>5</th>\n",
       "      <td>2</td>\n",
       "      <td>Is the waistband of the York trackpants itch-f...</td>\n",
       "      <td>Clothing and Accessories</td>\n",
       "      <td>York</td>\n",
       "    </tr>\n",
       "    <tr>\n",
       "      <th>6</th>\n",
       "      <td>3</td>\n",
       "      <td>What materials are used in the Yorker Solid Me...</td>\n",
       "      <td>Clothing and Accessories</td>\n",
       "      <td>York</td>\n",
       "    </tr>\n",
       "    <tr>\n",
       "      <th>7</th>\n",
       "      <td>3</td>\n",
       "      <td>Are the Yorker track pants comfortable for all...</td>\n",
       "      <td>Clothing and Accessories</td>\n",
       "      <td>York</td>\n",
       "    </tr>\n",
       "    <tr>\n",
       "      <th>8</th>\n",
       "      <td>4</td>\n",
       "      <td>What materials are used in the York Solid Men ...</td>\n",
       "      <td>Clothing and Accessories</td>\n",
       "      <td>York</td>\n",
       "    </tr>\n",
       "    <tr>\n",
       "      <th>9</th>\n",
       "      <td>4</td>\n",
       "      <td>Can you tell me about the sizing options avail...</td>\n",
       "      <td>Clothing and Accessories</td>\n",
       "      <td>York</td>\n",
       "    </tr>\n",
       "    <tr>\n",
       "      <th>10</th>\n",
       "      <td>5</td>\n",
       "      <td>What materials are used in the Solid Men Multi...</td>\n",
       "      <td>Clothing and Accessories</td>\n",
       "      <td>York</td>\n",
       "    </tr>\n",
       "    <tr>\n",
       "      <th>11</th>\n",
       "      <td>5</td>\n",
       "      <td>Is the skin-friendly fabric of the York Solid ...</td>\n",
       "      <td>Clothing and Accessories</td>\n",
       "      <td>York</td>\n",
       "    </tr>\n",
       "    <tr>\n",
       "      <th>12</th>\n",
       "      <td>6</td>\n",
       "      <td>What materials are used in the York Solid Men ...</td>\n",
       "      <td>Clothing and Accessories</td>\n",
       "      <td>York</td>\n",
       "    </tr>\n",
       "    <tr>\n",
       "      <th>13</th>\n",
       "      <td>6</td>\n",
       "      <td>Is the York Solid Men Dark Blue Track Pants su...</td>\n",
       "      <td>Clothing and Accessories</td>\n",
       "      <td>York</td>\n",
       "    </tr>\n",
       "    <tr>\n",
       "      <th>14</th>\n",
       "      <td>7</td>\n",
       "      <td>What materials are used in the construction of...</td>\n",
       "      <td>Clothing and Accessories</td>\n",
       "      <td>York</td>\n",
       "    </tr>\n",
       "    <tr>\n",
       "      <th>15</th>\n",
       "      <td>7</td>\n",
       "      <td>Is the York Solid Men Beige Track Pants suitab...</td>\n",
       "      <td>Clothing and Accessories</td>\n",
       "      <td>York</td>\n",
       "    </tr>\n",
       "    <tr>\n",
       "      <th>16</th>\n",
       "      <td>8</td>\n",
       "      <td>What material are the Solid Men Black Track Pa...</td>\n",
       "      <td>Clothing and Accessories</td>\n",
       "      <td>York</td>\n",
       "    </tr>\n",
       "    <tr>\n",
       "      <th>17</th>\n",
       "      <td>8</td>\n",
       "      <td>Is the waistband of the Yorker trackpants itch...</td>\n",
       "      <td>Clothing and Accessories</td>\n",
       "      <td>York</td>\n",
       "    </tr>\n",
       "    <tr>\n",
       "      <th>18</th>\n",
       "      <td>9</td>\n",
       "      <td>What material are the Yorker Solid Men Grey Tr...</td>\n",
       "      <td>Clothing and Accessories</td>\n",
       "      <td>York</td>\n",
       "    </tr>\n",
       "    <tr>\n",
       "      <th>19</th>\n",
       "      <td>9</td>\n",
       "      <td>Are the Yorker Solid Men Grey Track Pants suit...</td>\n",
       "      <td>Clothing and Accessories</td>\n",
       "      <td>York</td>\n",
       "    </tr>\n",
       "    <tr>\n",
       "      <th>20</th>\n",
       "      <td>10</td>\n",
       "      <td>What material are the York checkered men's tra...</td>\n",
       "      <td>Clothing and Accessories</td>\n",
       "      <td>York</td>\n",
       "    </tr>\n",
       "    <tr>\n",
       "      <th>21</th>\n",
       "      <td>10</td>\n",
       "      <td>Is the itch-free waistband on the York track p...</td>\n",
       "      <td>Clothing and Accessories</td>\n",
       "      <td>York</td>\n",
       "    </tr>\n",
       "    <tr>\n",
       "      <th>22</th>\n",
       "      <td>11</td>\n",
       "      <td>What is the average rating for the York Solid ...</td>\n",
       "      <td>Clothing and Accessories</td>\n",
       "      <td>York</td>\n",
       "    </tr>\n",
       "    <tr>\n",
       "      <th>23</th>\n",
       "      <td>11</td>\n",
       "      <td>Are the York Solid Men Multicolor Track Pants ...</td>\n",
       "      <td>Clothing and Accessories</td>\n",
       "      <td>York</td>\n",
       "    </tr>\n",
       "    <tr>\n",
       "      <th>24</th>\n",
       "      <td>12</td>\n",
       "      <td>What is the average rating of the Solid Men Mu...</td>\n",
       "      <td>Clothing and Accessories</td>\n",
       "      <td>York</td>\n",
       "    </tr>\n",
       "    <tr>\n",
       "      <th>25</th>\n",
       "      <td>12</td>\n",
       "      <td>Are the Solid Men Multicolor Track Pants by Yo...</td>\n",
       "      <td>Clothing and Accessories</td>\n",
       "      <td>York</td>\n",
       "    </tr>\n",
       "    <tr>\n",
       "      <th>26</th>\n",
       "      <td>13</td>\n",
       "      <td>What is the average rating of the York Self De...</td>\n",
       "      <td>Clothing and Accessories</td>\n",
       "      <td>York</td>\n",
       "    </tr>\n",
       "    <tr>\n",
       "      <th>27</th>\n",
       "      <td>13</td>\n",
       "      <td>Is the York Self Design Men Multicolor Track P...</td>\n",
       "      <td>Clothing and Accessories</td>\n",
       "      <td>York</td>\n",
       "    </tr>\n",
       "    <tr>\n",
       "      <th>28</th>\n",
       "      <td>14</td>\n",
       "      <td>What is the average rating of the York Self De...</td>\n",
       "      <td>Clothing and Accessories</td>\n",
       "      <td>York</td>\n",
       "    </tr>\n",
       "    <tr>\n",
       "      <th>29</th>\n",
       "      <td>14</td>\n",
       "      <td>Is the York Self Design Men Multicolor Track P...</td>\n",
       "      <td>Clothing and Accessories</td>\n",
       "      <td>York</td>\n",
       "    </tr>\n",
       "    <tr>\n",
       "      <th>30</th>\n",
       "      <td>15</td>\n",
       "      <td>What is the average rating of the Solid Men Mu...</td>\n",
       "      <td>Clothing and Accessories</td>\n",
       "      <td>York</td>\n",
       "    </tr>\n",
       "    <tr>\n",
       "      <th>31</th>\n",
       "      <td>15</td>\n",
       "      <td>Is the Solid Men Multicolor Track Pants curren...</td>\n",
       "      <td>Clothing and Accessories</td>\n",
       "      <td>York</td>\n",
       "    </tr>\n",
       "    <tr>\n",
       "      <th>32</th>\n",
       "      <td>16</td>\n",
       "      <td>What is the average rating of the Self Design ...</td>\n",
       "      <td>Clothing and Accessories</td>\n",
       "      <td>York</td>\n",
       "    </tr>\n",
       "    <tr>\n",
       "      <th>33</th>\n",
       "      <td>16</td>\n",
       "      <td>Is the Self Design Men Multicolor Track Pants ...</td>\n",
       "      <td>Clothing and Accessories</td>\n",
       "      <td>York</td>\n",
       "    </tr>\n",
       "    <tr>\n",
       "      <th>34</th>\n",
       "      <td>17</td>\n",
       "      <td>What is the average rating of the Self Design ...</td>\n",
       "      <td>Clothing and Accessories</td>\n",
       "      <td>York</td>\n",
       "    </tr>\n",
       "    <tr>\n",
       "      <th>35</th>\n",
       "      <td>17</td>\n",
       "      <td>Is the Self Design Men Multicolor Track Pants ...</td>\n",
       "      <td>Clothing and Accessories</td>\n",
       "      <td>York</td>\n",
       "    </tr>\n",
       "    <tr>\n",
       "      <th>36</th>\n",
       "      <td>18</td>\n",
       "      <td>What is the average rating of the York Self De...</td>\n",
       "      <td>Clothing and Accessories</td>\n",
       "      <td>York</td>\n",
       "    </tr>\n",
       "    <tr>\n",
       "      <th>37</th>\n",
       "      <td>18</td>\n",
       "      <td>Is the York Self Design Men Multicolor Track P...</td>\n",
       "      <td>Clothing and Accessories</td>\n",
       "      <td>York</td>\n",
       "    </tr>\n",
       "    <tr>\n",
       "      <th>38</th>\n",
       "      <td>19</td>\n",
       "      <td>What materials are used in the York Solid Men ...</td>\n",
       "      <td>Clothing and Accessories</td>\n",
       "      <td>York</td>\n",
       "    </tr>\n",
       "    <tr>\n",
       "      <th>39</th>\n",
       "      <td>19</td>\n",
       "      <td>Is the York Solid Men Multicolor Track Pants a...</td>\n",
       "      <td>Clothing and Accessories</td>\n",
       "      <td>York</td>\n",
       "    </tr>\n",
       "  </tbody>\n",
       "</table>\n",
       "</div>"
      ],
      "text/plain": [
       "    doc_id                                          questions  \\\n",
       "0        0  What are the material and comfort features of ...   \n",
       "1        0  Is the Solid Men Multicolor Track Pants by Yor...   \n",
       "2        1  What materials are used to make the Solid Men ...   \n",
       "3        1  Is the waistband of the Yorker track pants des...   \n",
       "4        2  What material is used in the York Solid Men Mu...   \n",
       "5        2  Is the waistband of the York trackpants itch-f...   \n",
       "6        3  What materials are used in the Yorker Solid Me...   \n",
       "7        3  Are the Yorker track pants comfortable for all...   \n",
       "8        4  What materials are used in the York Solid Men ...   \n",
       "9        4  Can you tell me about the sizing options avail...   \n",
       "10       5  What materials are used in the Solid Men Multi...   \n",
       "11       5  Is the skin-friendly fabric of the York Solid ...   \n",
       "12       6  What materials are used in the York Solid Men ...   \n",
       "13       6  Is the York Solid Men Dark Blue Track Pants su...   \n",
       "14       7  What materials are used in the construction of...   \n",
       "15       7  Is the York Solid Men Beige Track Pants suitab...   \n",
       "16       8  What material are the Solid Men Black Track Pa...   \n",
       "17       8  Is the waistband of the Yorker trackpants itch...   \n",
       "18       9  What material are the Yorker Solid Men Grey Tr...   \n",
       "19       9  Are the Yorker Solid Men Grey Track Pants suit...   \n",
       "20      10  What material are the York checkered men's tra...   \n",
       "21      10  Is the itch-free waistband on the York track p...   \n",
       "22      11  What is the average rating for the York Solid ...   \n",
       "23      11  Are the York Solid Men Multicolor Track Pants ...   \n",
       "24      12  What is the average rating of the Solid Men Mu...   \n",
       "25      12  Are the Solid Men Multicolor Track Pants by Yo...   \n",
       "26      13  What is the average rating of the York Self De...   \n",
       "27      13  Is the York Self Design Men Multicolor Track P...   \n",
       "28      14  What is the average rating of the York Self De...   \n",
       "29      14  Is the York Self Design Men Multicolor Track P...   \n",
       "30      15  What is the average rating of the Solid Men Mu...   \n",
       "31      15  Is the Solid Men Multicolor Track Pants curren...   \n",
       "32      16  What is the average rating of the Self Design ...   \n",
       "33      16  Is the Self Design Men Multicolor Track Pants ...   \n",
       "34      17  What is the average rating of the Self Design ...   \n",
       "35      17  Is the Self Design Men Multicolor Track Pants ...   \n",
       "36      18  What is the average rating of the York Self De...   \n",
       "37      18  Is the York Self Design Men Multicolor Track P...   \n",
       "38      19  What materials are used in the York Solid Men ...   \n",
       "39      19  Is the York Solid Men Multicolor Track Pants a...   \n",
       "\n",
       "                    category brand  \n",
       "0   Clothing and Accessories  York  \n",
       "1   Clothing and Accessories  York  \n",
       "2   Clothing and Accessories  York  \n",
       "3   Clothing and Accessories  York  \n",
       "4   Clothing and Accessories  York  \n",
       "5   Clothing and Accessories  York  \n",
       "6   Clothing and Accessories  York  \n",
       "7   Clothing and Accessories  York  \n",
       "8   Clothing and Accessories  York  \n",
       "9   Clothing and Accessories  York  \n",
       "10  Clothing and Accessories  York  \n",
       "11  Clothing and Accessories  York  \n",
       "12  Clothing and Accessories  York  \n",
       "13  Clothing and Accessories  York  \n",
       "14  Clothing and Accessories  York  \n",
       "15  Clothing and Accessories  York  \n",
       "16  Clothing and Accessories  York  \n",
       "17  Clothing and Accessories  York  \n",
       "18  Clothing and Accessories  York  \n",
       "19  Clothing and Accessories  York  \n",
       "20  Clothing and Accessories  York  \n",
       "21  Clothing and Accessories  York  \n",
       "22  Clothing and Accessories  York  \n",
       "23  Clothing and Accessories  York  \n",
       "24  Clothing and Accessories  York  \n",
       "25  Clothing and Accessories  York  \n",
       "26  Clothing and Accessories  York  \n",
       "27  Clothing and Accessories  York  \n",
       "28  Clothing and Accessories  York  \n",
       "29  Clothing and Accessories  York  \n",
       "30  Clothing and Accessories  York  \n",
       "31  Clothing and Accessories  York  \n",
       "32  Clothing and Accessories  York  \n",
       "33  Clothing and Accessories  York  \n",
       "34  Clothing and Accessories  York  \n",
       "35  Clothing and Accessories  York  \n",
       "36  Clothing and Accessories  York  \n",
       "37  Clothing and Accessories  York  \n",
       "38  Clothing and Accessories  York  \n",
       "39  Clothing and Accessories  York  "
      ]
     },
     "execution_count": 138,
     "metadata": {},
     "output_type": "execute_result"
    }
   ],
   "source": [
    "df_exploded"
   ]
  },
  {
   "cell_type": "code",
   "execution_count": 139,
   "id": "55ddd4a1-d3bb-456e-896c-92653606e586",
   "metadata": {},
   "outputs": [],
   "source": [
    "df_exploded.to_csv('../data/ground-truth-retrieval.csv', index=False)\n"
   ]
  },
  {
   "cell_type": "code",
   "execution_count": 140,
   "id": "5608255d-cc77-403e-872f-b54d5dab8435",
   "metadata": {},
   "outputs": [
    {
     "name": "stdout",
     "output_type": "stream",
     "text": [
      "doc_id,questions,category,brand\n",
      "0,What are the material and comfort features of the Solid Men Multicolor Track Pants by York?,Clothing and Accessories,York\n",
      "0,Is the Solid Men Multicolor Track Pants by York suitable for year-round use?,Clothing and Accessories,York\n",
      "1,What materials are used to make the Solid Men Blue Track Pants by York?,Clothing and Accessories,York\n",
      "1,Is the waistband of the Yorker track pants designed to be comfortable for all-day wear?,Clothing and Accessories,York\n",
      "2,What material is used in the York Solid Men Multicolor Track Pants and how does it enhance comfort?,Clothing and Accessories,York\n",
      "2,\"Is the waistband of the York trackpants itch-free, and are they suitable for all-year-round use?\",Clothing and Accessories,York\n",
      "3,What materials are used in the Yorker Solid Men Multicolor Track Pants?,Clothing and Accessories,York\n",
      "3,Are the Yorker track pants comfortable for all-year round use?,Clothing and Accessories,York\n",
      "4,\"What materials are used in the York Solid Men Brown, Grey Track Pants and how do they contribute to comfort?\",Clothing and Accessories,York\n"
     ]
    }
   ],
   "source": [
    "!head ../data/ground-truth-retrieval.csv\n"
   ]
  },
  {
   "cell_type": "code",
   "execution_count": null,
   "id": "ce3c56e1-eb3a-4873-842f-f27f8fded684",
   "metadata": {},
   "outputs": [],
   "source": []
  }
 ],
 "metadata": {
  "kernelspec": {
   "display_name": "Python 3 (ipykernel)",
   "language": "python",
   "name": "python3"
  },
  "language_info": {
   "codemirror_mode": {
    "name": "ipython",
    "version": 3
   },
   "file_extension": ".py",
   "mimetype": "text/x-python",
   "name": "python",
   "nbconvert_exporter": "python",
   "pygments_lexer": "ipython3",
   "version": "3.10.12"
  }
 },
 "nbformat": 4,
 "nbformat_minor": 5
}

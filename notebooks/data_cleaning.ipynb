{
 "cells": [
  {
   "cell_type": "code",
   "execution_count": 55,
   "id": "6baeaead-56eb-456b-be75-c127522594c7",
   "metadata": {},
   "outputs": [],
   "source": [
    "import pandas as pd\n",
    "import json\n",
    "\n"
   ]
  },
  {
   "cell_type": "code",
   "execution_count": 56,
   "id": "3d391e52-90b6-4998-8b45-e24a43787ac0",
   "metadata": {},
   "outputs": [],
   "source": [
    "FILE_PATH = '../data/flipkart_fashion_products_dataset.json'"
   ]
  },
  {
   "cell_type": "code",
   "execution_count": 57,
   "id": "d252e6ff-f8f6-4ee8-9e6f-9000ea8339f8",
   "metadata": {},
   "outputs": [],
   "source": [
    "def get_unique_products(file_path):\n",
    "    '''\n",
    "    Returns a dictionary of unique product ids. \n",
    "    '''\n",
    "\n",
    "    product_list = []\n",
    "    with open(file_path, \"r\") as json_file:\n",
    "        json_data = json.load(json_file)\n",
    "        for product in json_data:\n",
    "            product_list.append(product)\n",
    "\n",
    "    unique_product_ids = {}\n",
    "    for product in product_list:\n",
    "        product_id = product['pid']\n",
    "        if product_id not in unique_product_ids:\n",
    "            unique_product_ids[product_id] = product\n",
    "    return unique_product_ids\n",
    "\n"
   ]
  },
  {
   "cell_type": "code",
   "execution_count": 65,
   "id": "1d77789b-0644-4eae-8c9f-80d79916b2da",
   "metadata": {},
   "outputs": [],
   "source": [
    "def remove_duplicates(filepath):\n",
    "    '''\n",
    "    Removes all the duplicate products from the dataset\n",
    "    '''\n",
    "    cleaned_data = []\n",
    "    index = 0\n",
    "    product_ids = set()\n",
    "    with open(filepath, \"r\") as json_file:\n",
    "        json_data = json.load(json_file)\n",
    "        for product in json_data:\n",
    "            product_id = product['pid']\n",
    "            if product_id not in product_ids:\n",
    "                product['doc_id'] = index\n",
    "                index += 1\n",
    "                cleaned_data.append(product)\n",
    "                product_ids.add(product_id)\n",
    "           \n",
    "             \n",
    "\n",
    "\n",
    "    return cleaned_data\n",
    "\n",
    "\n",
    "    \n",
    "    \n",
    "    \n",
    "    "
   ]
  },
  {
   "cell_type": "code",
   "execution_count": 66,
   "id": "53a35acd-e82d-4e42-a2ac-7785aa584399",
   "metadata": {},
   "outputs": [],
   "source": [
    "unique_product_ids = get_unique_products(FILE_PATH)"
   ]
  },
  {
   "cell_type": "code",
   "execution_count": 67,
   "id": "cc5979ef-c833-4a42-aa69-b5265e6d4374",
   "metadata": {},
   "outputs": [],
   "source": [
    "cleaned_data = remove_duplicates(FILE_PATH)\n"
   ]
  },
  {
   "cell_type": "code",
   "execution_count": 68,
   "id": "cd551c11-8d5f-4834-aa66-41dc23a40329",
   "metadata": {},
   "outputs": [
    {
     "name": "stdout",
     "output_type": "stream",
     "text": [
      "28080\n"
     ]
    }
   ],
   "source": [
    "print(len(cleaned_data))"
   ]
  },
  {
   "cell_type": "code",
   "execution_count": 70,
   "id": "f46595b5-3fe7-4362-8334-df3cbd62b4e0",
   "metadata": {},
   "outputs": [
    {
     "data": {
      "text/plain": [
       "{'_id': 'fa8e22d6-c0b6-5229-bb9e-ad52eda39a0a',\n",
       " 'actual_price': '2,999',\n",
       " 'average_rating': '3.9',\n",
       " 'brand': 'York',\n",
       " 'category': 'Clothing and Accessories',\n",
       " 'crawled_at': '02/10/2021, 20:11:51',\n",
       " 'description': 'Yorker trackpants made from 100% rich combed cotton giving it a rich look.Designed for Comfort,Skin friendly fabric,itch-free waistband & great for all year round use Proudly made in India',\n",
       " 'discount': '69% off',\n",
       " 'images': ['https://rukminim1.flixcart.com/image/128/128/jr3t5e80/track-pant/z/y/n/m-1005combo2-yorker-original-imafczg3xfh5qqd4.jpeg?q=70',\n",
       "  'https://rukminim1.flixcart.com/image/128/128/jr58l8w0/track-pant/w/d/a/l-1005combo8-yorker-original-imafczg3pgtxgraq.jpeg?q=70'],\n",
       " 'out_of_stock': False,\n",
       " 'pid': 'TKPFCZ9EA7H5FYZH',\n",
       " 'product_details': [{'Style Code': '1005COMBO2'},\n",
       "  {'Closure': 'Elastic'},\n",
       "  {'Pockets': 'Side Pockets'},\n",
       "  {'Fabric': 'Cotton Blend'},\n",
       "  {'Pattern': 'Solid'},\n",
       "  {'Color': 'Multicolor'}],\n",
       " 'seller': 'Shyam Enterprises',\n",
       " 'selling_price': '921',\n",
       " 'sub_category': 'Bottomwear',\n",
       " 'title': 'Solid Men Multicolor Track Pants',\n",
       " 'url': 'https://www.flipkart.com/yorker-solid-men-multicolor-track-pants/p/itmd2c76aadce459?pid=TKPFCZ9EA7H5FYZH&lid=LSTTKPFCZ9EA7H5FYZHVYXWP0&marketplace=FLIPKART&srno=b_1_1&otracker=browse&fm=organic&iid=177a46eb-d053-4732-b3de-fcad6ff59cbd.TKPFCZ9EA7H5FYZH.SEARCH&ssid=utkd4t3gb40000001612415717799',\n",
       " 'doc_id': 0}"
      ]
     },
     "execution_count": 70,
     "metadata": {},
     "output_type": "execute_result"
    }
   ],
   "source": [
    "cleaned_data[0]"
   ]
  },
  {
   "cell_type": "code",
   "execution_count": 71,
   "id": "d17563a4-0d83-40a9-b681-e7b24232d563",
   "metadata": {},
   "outputs": [],
   "source": [
    "def add_missing_fields(data):\n",
    "    \"\"\"\n",
    "    Add missing fields in the product data\n",
    "    \"\"\"\n",
    "    keys = ['title', 'description', 'category', 'sub_category', 'brand', 'average_rating', 'url', 'out_of_stock']\n",
    "    for product in data:\n",
    "        for key in keys:\n",
    "            if key not in product:\n",
    "                product[key] = ''\n",
    "    return data"
   ]
  },
  {
   "cell_type": "code",
   "execution_count": 73,
   "id": "3b005f6a-1ea7-4676-acb7-7f78c2b47112",
   "metadata": {},
   "outputs": [],
   "source": [
    "cleaned_data = add_missing_fields(cleaned_data)"
   ]
  },
  {
   "cell_type": "code",
   "execution_count": 75,
   "id": "2c02dffa-bb18-4b40-b6a5-6c7a2a36639a",
   "metadata": {},
   "outputs": [],
   "source": [
    "# TODO: Write cleaned data to a json file on data folder\n",
    "# Specify the file path where you want to save the JSON file\n",
    "file_path = \"../data/cleaned_data.json\"\n",
    "\n",
    "# Write the list of dictionaries to a JSON file\n",
    "with open(file_path, 'w') as json_file:\n",
    "    json.dump(cleaned_data, json_file, indent=4)  # 'indent=4' makes the JSON file more readable"
   ]
  },
  {
   "cell_type": "code",
   "execution_count": null,
   "id": "1f35883e-2be8-4dcd-844e-75ef8773273f",
   "metadata": {},
   "outputs": [],
   "source": []
  }
 ],
 "metadata": {
  "kernelspec": {
   "display_name": "Python 3 (ipykernel)",
   "language": "python",
   "name": "python3"
  },
  "language_info": {
   "codemirror_mode": {
    "name": "ipython",
    "version": 3
   },
   "file_extension": ".py",
   "mimetype": "text/x-python",
   "name": "python",
   "nbconvert_exporter": "python",
   "pygments_lexer": "ipython3",
   "version": "3.10.12"
  }
 },
 "nbformat": 4,
 "nbformat_minor": 5
}
